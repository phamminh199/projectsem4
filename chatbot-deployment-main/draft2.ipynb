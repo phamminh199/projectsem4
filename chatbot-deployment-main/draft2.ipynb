{
 "cells": [
  {
   "cell_type": "code",
   "execution_count": null,
   "metadata": {},
   "outputs": [],
   "source": [
    "import pandas as pd\n",
    "import numpy as np"
   ]
  },
  {
   "cell_type": "code",
   "execution_count": 7,
   "metadata": {},
   "outputs": [
    {
     "name": "stdout",
     "output_type": "stream",
     "text": [
      "['ReactJ', 'React', 'Reac', 'javascrip', 'javascri', 'javascr', 'javasc', 'javas', 'java', 'Androi', 'Andro', 'Andr', 'MySQ', 'Teste', 'Test', 'Pytho', 'Pyth', 'Mobile App', 'Mobile Ap', 'Mobile A', 'Mobile ', 'Mobile', 'Mobil', 'Mobi', 'Ruby on Rail', 'Ruby on Rai', 'Ruby on Ra', 'Ruby on R', 'Ruby on ', 'Ruby on', 'Ruby o', 'Ruby ', 'Ruby', 'QA Q', 'Business Analys', 'Business Analy', 'Business Anal', 'Business Ana', 'Business An', 'Business A', 'Business ', 'Business', 'Busines', 'Busine', 'Busin', 'Busi', 'Linu', 'NodeJ', 'Node', 'Designe', 'Design', 'Desig', 'Desi', 'Machine learnin', 'Machine learni', 'Machine learn', 'Machine lear', 'Machine lea', 'Machine le', 'Machine l', 'Machine ', 'Machine', 'Machin', 'Machi', 'Mach']\n"
     ]
    }
   ],
   "source": [
    "li_patterns = [\n",
    "    \"ReactJS\",\n",
    "      \"java\",\n",
    "      \"php\",\n",
    "      \"javascript\",\n",
    "      \"SQL\",\n",
    "      \"Android\",\n",
    "      \"iOS\",\n",
    "      \"MySQL\",\n",
    "      \"Tester\",\n",
    "      \"Ruby\",\n",
    "      \"Python\",\n",
    "      \"Mobile Apps\",\n",
    "      \"Ruby on Rails\",\n",
    "      \"QA QC\",\n",
    "      \".NET\",\n",
    "      \"Business Analyst\",\n",
    "      \"Linux\",\n",
    "      \"NodeJS\",\n",
    "      \"Designer\",\n",
    "      \"Machine learning\",\n",
    "      \"AI\"\n",
    "]\n",
    "\n",
    "li_splits = []\n",
    "\n",
    "for item in li_patterns:\n",
    "    while len(item) > 4:\n",
    "        modified_text = item[:-1]\n",
    "        li_splits.append(modified_text)\n",
    "        item = modified_text  # Update the value of item for the next iteration\n",
    "\n",
    "print(li_splits)"
   ]
  },
  {
   "cell_type": "code",
   "execution_count": 6,
   "metadata": {},
   "outputs": [],
   "source": [
    "import json\n",
    "import csv\n",
    "\n",
    "# Open the JSON file for reading\n",
    "with open(\"intents.json\", \"r\") as json_file:\n",
    "    data = json.load(json_file)\n",
    "\n",
    "# Extract the \"tag\" values from the \"intents\" list\n",
    "tag_values = [intent[\"tag\"] for intent in data[\"intents\"]]\n",
    "\n",
    "# Specify the CSV file name\n",
    "csv_file = \"tag_values.csv\"\n",
    "\n",
    "# Write the extracted \"tag\" values to the CSV file\n",
    "with open(csv_file, \"w\", newline=\"\") as csvfile:\n",
    "    csv_writer = csv.writer(csvfile)\n",
    "    csv_writer.writerow([\"Tag Values\"])  # Write header row\n",
    "    csv_writer.writerows([[tag] for tag in tag_values])  # Write data rows\n"
   ]
  }
 ],
 "metadata": {
  "kernelspec": {
   "display_name": "Python 3",
   "language": "python",
   "name": "python3"
  },
  "language_info": {
   "codemirror_mode": {
    "name": "ipython",
    "version": 3
   },
   "file_extension": ".py",
   "mimetype": "text/x-python",
   "name": "python",
   "nbconvert_exporter": "python",
   "pygments_lexer": "ipython3",
   "version": "3.11.3"
  },
  "orig_nbformat": 4
 },
 "nbformat": 4,
 "nbformat_minor": 2
}
